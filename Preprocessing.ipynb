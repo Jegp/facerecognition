{
 "cells": [
  {
   "cell_type": "code",
   "execution_count": 3,
   "metadata": {},
   "outputs": [],
   "source": [
    "import numpy as np\n",
    "import pandas as pd\n",
    "import codecs"
   ]
  },
  {
   "cell_type": "code",
   "execution_count": 4,
   "metadata": {},
   "outputs": [],
   "source": [
    "participant_files = !ls data"
   ]
  },
  {
   "cell_type": "code",
   "execution_count": 2,
   "metadata": {},
   "outputs": [],
   "source": [
    "import json"
   ]
  },
  {
   "cell_type": "code",
   "execution_count": 12,
   "metadata": {},
   "outputs": [
    {
     "name": "stdout",
     "output_type": "stream",
     "text": [
      "[880 881 883 884 886 887 888 889 890 892 893 894 895 896 897 898 899 900\n",
      " 901 903 904 905 906 907 909 911 913 914 915 916 917 919 920 921 924 925\n",
      " 926 928 930 931 932 933 934 935 936 938 939 940 941 942 943 944 945 946\n",
      " 948 949 950 951 952 953 954 956 957 958 959 960 961 962 965 966 967 968\n",
      " 969 970 971 972 973 974 975 976 977 978 979 980 982 984 985 986 987 989\n",
      " 990 992 994 995 996 997 998 999]\n",
      "[0 1 1 1 0 0 1 1 1 0 0 0 1 0 0 0 1 1 1 1 1 1 1 0 0 1 1 1 1 1 1 1 1 0 0 0 0\n",
      " 0 0 1 1 1 1 1 1 0 0 1 0 0 1 0 1 1 1 1 1 1 1 1 1 1 1 1 1 1 1 1 1 1 1 0 1 1\n",
      " 1 0 1 1 1 1 0 0 0 0 1 1 0 0 1 1 1 0 0 1 0 0 0 1]\n"
     ]
    }
   ],
   "source": [
    "with open(\"modified_data.txt\") as data:\n",
    "    rows = json.load(data)\n",
    "    ids = np.array([x[0] for x in enumerate(rows[5][880:]) if not x[1] == None])\n",
    "    print(np.take(rows[5][880:], ids))"
   ]
  },
  {
   "cell_type": "code",
   "execution_count": 29,
   "metadata": {},
   "outputs": [
    {
     "data": {
      "text/plain": [
       "3"
      ]
     },
     "execution_count": 29,
     "metadata": {},
     "output_type": "execute_result"
    }
   ],
   "source": [
    "tup = (2, 3)\n",
    "tup[1]"
   ]
  },
  {
   "cell_type": "code",
   "execution_count": 17,
   "metadata": {},
   "outputs": [],
   "source": [
    "import json\n",
    "from sklearn.preprocessing import scale\n",
    "with open(\"output.txt\") as data:\n",
    "    subjects = json.load(data)\n",
    "\n",
    "\n",
    "all_y = [int(subject[2]) for subject in subjects]\n",
    "scale_y = scale(all_y,with_std = 1)\n",
    "\n",
    "def labelmodifications():\n",
    "    x1 = []\n",
    "    x2 = []\n",
    "    linear = []\n",
    "    binary = []\n",
    "    binary_3 = []\n",
    "\n",
    "    for i,e in enumerate(all_y):\n",
    "        x1.append(subjects[i][3])\n",
    "        x2.append(subjects[i][4])\n",
    "        linear.append(scale_y[i])\n",
    "        if e <= 1:\n",
    "            binary.append(0)\n",
    "            binary_3.append(0)\n",
    "        elif e == 2:\n",
    "            binary.append(1)\n",
    "            binary_3.append(None)\n",
    "        elif e >= 3:\n",
    "            binary.append(1)\n",
    "            binary_3.append(1)\n",
    "    \n",
    "    return [x1, x2, all_y, linear, binary, binary_3]\n",
    "\n",
    "new_data = labelmodifications()\n",
    "with open(\"modified_data.txt\", \"w\") as outfile:\n",
    "    json.dump(new_data, outfile)\n",
    "\n",
    "\n",
    "\n"
   ]
  },
  {
   "cell_type": "code",
   "execution_count": 4,
   "metadata": {
    "scrolled": true
   },
   "outputs": [
    {
     "name": "stderr",
     "output_type": "stream",
     "text": [
      "/home/jens/workspace/cogsci/facerecognition/lib/python3.5/site-packages/IPython/core/interactiveshell.py:2728: DtypeWarning: Columns (42) have mixed types. Specify dtype option on import or set low_memory=False.\n",
      "  interactivity=interactivity, compiler=compiler, result=result)\n",
      "/home/jens/workspace/cogsci/facerecognition/lib/python3.5/site-packages/IPython/core/interactiveshell.py:2728: DtypeWarning: Columns (19,36,42,44,45) have mixed types. Specify dtype option on import or set low_memory=False.\n",
      "  interactivity=interactivity, compiler=compiler, result=result)\n",
      "/home/jens/workspace/cogsci/facerecognition/lib/python3.5/site-packages/IPython/core/interactiveshell.py:2728: DtypeWarning: Columns (19,42) have mixed types. Specify dtype option on import or set low_memory=False.\n",
      "  interactivity=interactivity, compiler=compiler, result=result)\n",
      "/home/jens/workspace/cogsci/facerecognition/lib/python3.5/site-packages/IPython/core/interactiveshell.py:2728: DtypeWarning: Columns (19,36,42) have mixed types. Specify dtype option on import or set low_memory=False.\n",
      "  interactivity=interactivity, compiler=compiler, result=result)\n"
     ]
    }
   ],
   "source": [
    "data = []\n",
    "for p in participant_files:\n",
    "    path = \"data/\" + p\n",
    "    out = pd.read_csv(path, delimiter='\\t', low_memory=False)\n",
    "    data.append(out)"
   ]
  },
  {
   "cell_type": "code",
   "execution_count": 6,
   "metadata": {},
   "outputs": [
    {
     "name": "stdout",
     "output_type": "stream",
     "text": [
      "Index(['ExportDate', 'StudioVersionRec', 'StudioProjectName', 'StudioTestName',\n",
      "       'ParticipantName', '[Q01]Value', '[Q01_1]Value', '[Q02]Value',\n",
      "       '[Q02_1]Value', '[Q02_1_1]Value', '[Q02_1_1_1]Value',\n",
      "       '[Q02_1_1_2]Value', '[familiarity]Value', 'RecordingName',\n",
      "       'RecordingDate', 'RecordingDuration', 'RecordingResolution',\n",
      "       'PresentationSequence', 'FixationFilter', 'MediaName',\n",
      "       'MediaPosX (ADCSpx)', 'MediaPosY (ADCSpx)', 'MediaWidth', 'MediaHeight',\n",
      "       'SegmentName', 'SegmentStart', 'SegmentEnd', 'SegmentDuration',\n",
      "       'SceneName', 'SceneSegmentStart', 'SceneSegmentEnd',\n",
      "       'SceneSegmentDuration', 'RecordingTimestamp', 'LocalTimeStamp',\n",
      "       'EyeTrackerTimestamp', 'MouseEventIndex', 'MouseEvent',\n",
      "       'MouseEventX (ADCSpx)', 'MouseEventY (ADCSpx)', 'MouseEventX (MCSpx)',\n",
      "       'MouseEventY (MCSpx)', 'KeyPressEventIndex', 'KeyPressEvent',\n",
      "       'StudioEventIndex', 'StudioEvent', 'StudioEventData',\n",
      "       'ExternalEventIndex', 'ExternalEvent', 'ExternalEventValue',\n",
      "       'EventMarkerValue', 'FixationIndex', 'SaccadeIndex', 'GazeEventType',\n",
      "       'GazeEventDuration', 'FixationPointX (MCSpx)', 'FixationPointY (MCSpx)',\n",
      "       'SaccadicAmplitude', 'AbsoluteSaccadicDirection',\n",
      "       'RelativeSaccadicDirection', 'GazePointIndex',\n",
      "       'GazePointLeftX (ADCSpx)', 'GazePointLeftY (ADCSpx)',\n",
      "       'GazePointRightX (ADCSpx)', 'GazePointRightY (ADCSpx)',\n",
      "       'GazePointX (ADCSpx)', 'GazePointY (ADCSpx)', 'GazePointX (MCSpx)',\n",
      "       'GazePointY (MCSpx)', 'GazePointLeftX (ADCSmm)',\n",
      "       'GazePointLeftY (ADCSmm)', 'GazePointRightX (ADCSmm)',\n",
      "       'GazePointRightY (ADCSmm)', 'StrictAverageGazePointX (ADCSmm)',\n",
      "       'StrictAverageGazePointY (ADCSmm)', 'EyePosLeftX (ADCSmm)',\n",
      "       'EyePosLeftY (ADCSmm)', 'EyePosLeftZ (ADCSmm)', 'EyePosRightX (ADCSmm)',\n",
      "       'EyePosRightY (ADCSmm)', 'EyePosRightZ (ADCSmm)', 'CamLeftX',\n",
      "       'CamLeftY', 'CamRightX', 'CamRightY', 'DistanceLeft', 'DistanceRight',\n",
      "       'PupilLeft', 'PupilRight', 'ValidityLeft', 'ValidityRight',\n",
      "       'IRMarkerCount', 'IRMarkerID', 'PupilGlassesRight', 'Unnamed: 93'],\n",
      "      dtype='object')\n"
     ]
    }
   ],
   "source": [
    "columns = [ \"\"]"
   ]
  }
 ],
 "metadata": {
  "kernelspec": {
   "display_name": "Python 3",
   "language": "python",
   "name": "python3"
  },
  "language_info": {
   "codemirror_mode": {
    "name": "ipython",
    "version": 3
   },
   "file_extension": ".py",
   "mimetype": "text/x-python",
   "name": "python",
   "nbconvert_exporter": "python",
   "pygments_lexer": "ipython3",
   "version": "3.5.3"
  }
 },
 "nbformat": 4,
 "nbformat_minor": 2
}
