{
 "cells": [
  {
   "cell_type": "code",
   "execution_count": 2,
   "metadata": {},
   "outputs": [],
   "source": [
    "import numpy as np\n",
    "import pandas as pd\n",
    "import codecs"
   ]
  },
  {
   "cell_type": "code",
   "execution_count": 3,
   "metadata": {},
   "outputs": [],
   "source": [
    "participant_files = !ls data"
   ]
  },
  {
   "cell_type": "code",
   "execution_count": 4,
   "metadata": {
    "scrolled": true
   },
   "outputs": [
    {
     "name": "stderr",
     "output_type": "stream",
     "text": [
      "/home/jens/workspace/cogsci/facerecognition/lib/python3.5/site-packages/IPython/core/interactiveshell.py:2728: DtypeWarning: Columns (42) have mixed types. Specify dtype option on import or set low_memory=False.\n",
      "  interactivity=interactivity, compiler=compiler, result=result)\n",
      "/home/jens/workspace/cogsci/facerecognition/lib/python3.5/site-packages/IPython/core/interactiveshell.py:2728: DtypeWarning: Columns (19,36,42,44,45) have mixed types. Specify dtype option on import or set low_memory=False.\n",
      "  interactivity=interactivity, compiler=compiler, result=result)\n",
      "/home/jens/workspace/cogsci/facerecognition/lib/python3.5/site-packages/IPython/core/interactiveshell.py:2728: DtypeWarning: Columns (19,42) have mixed types. Specify dtype option on import or set low_memory=False.\n",
      "  interactivity=interactivity, compiler=compiler, result=result)\n",
      "/home/jens/workspace/cogsci/facerecognition/lib/python3.5/site-packages/IPython/core/interactiveshell.py:2728: DtypeWarning: Columns (19,36,42) have mixed types. Specify dtype option on import or set low_memory=False.\n",
      "  interactivity=interactivity, compiler=compiler, result=result)\n"
     ]
    }
   ],
   "source": [
    "data = []\n",
    "for p in participant_files:\n",
    "    path = \"data/\" + p\n",
    "    out = pd.read_csv(path, delimiter='\\t', low_memory=False)\n",
    "    data.append(out)"
   ]
  },
  {
   "cell_type": "code",
   "execution_count": 6,
   "metadata": {},
   "outputs": [
    {
     "name": "stdout",
     "output_type": "stream",
     "text": [
      "Index(['ExportDate', 'StudioVersionRec', 'StudioProjectName', 'StudioTestName',\n",
      "       'ParticipantName', '[Q01]Value', '[Q01_1]Value', '[Q02]Value',\n",
      "       '[Q02_1]Value', '[Q02_1_1]Value', '[Q02_1_1_1]Value',\n",
      "       '[Q02_1_1_2]Value', '[familiarity]Value', 'RecordingName',\n",
      "       'RecordingDate', 'RecordingDuration', 'RecordingResolution',\n",
      "       'PresentationSequence', 'FixationFilter', 'MediaName',\n",
      "       'MediaPosX (ADCSpx)', 'MediaPosY (ADCSpx)', 'MediaWidth', 'MediaHeight',\n",
      "       'SegmentName', 'SegmentStart', 'SegmentEnd', 'SegmentDuration',\n",
      "       'SceneName', 'SceneSegmentStart', 'SceneSegmentEnd',\n",
      "       'SceneSegmentDuration', 'RecordingTimestamp', 'LocalTimeStamp',\n",
      "       'EyeTrackerTimestamp', 'MouseEventIndex', 'MouseEvent',\n",
      "       'MouseEventX (ADCSpx)', 'MouseEventY (ADCSpx)', 'MouseEventX (MCSpx)',\n",
      "       'MouseEventY (MCSpx)', 'KeyPressEventIndex', 'KeyPressEvent',\n",
      "       'StudioEventIndex', 'StudioEvent', 'StudioEventData',\n",
      "       'ExternalEventIndex', 'ExternalEvent', 'ExternalEventValue',\n",
      "       'EventMarkerValue', 'FixationIndex', 'SaccadeIndex', 'GazeEventType',\n",
      "       'GazeEventDuration', 'FixationPointX (MCSpx)', 'FixationPointY (MCSpx)',\n",
      "       'SaccadicAmplitude', 'AbsoluteSaccadicDirection',\n",
      "       'RelativeSaccadicDirection', 'GazePointIndex',\n",
      "       'GazePointLeftX (ADCSpx)', 'GazePointLeftY (ADCSpx)',\n",
      "       'GazePointRightX (ADCSpx)', 'GazePointRightY (ADCSpx)',\n",
      "       'GazePointX (ADCSpx)', 'GazePointY (ADCSpx)', 'GazePointX (MCSpx)',\n",
      "       'GazePointY (MCSpx)', 'GazePointLeftX (ADCSmm)',\n",
      "       'GazePointLeftY (ADCSmm)', 'GazePointRightX (ADCSmm)',\n",
      "       'GazePointRightY (ADCSmm)', 'StrictAverageGazePointX (ADCSmm)',\n",
      "       'StrictAverageGazePointY (ADCSmm)', 'EyePosLeftX (ADCSmm)',\n",
      "       'EyePosLeftY (ADCSmm)', 'EyePosLeftZ (ADCSmm)', 'EyePosRightX (ADCSmm)',\n",
      "       'EyePosRightY (ADCSmm)', 'EyePosRightZ (ADCSmm)', 'CamLeftX',\n",
      "       'CamLeftY', 'CamRightX', 'CamRightY', 'DistanceLeft', 'DistanceRight',\n",
      "       'PupilLeft', 'PupilRight', 'ValidityLeft', 'ValidityRight',\n",
      "       'IRMarkerCount', 'IRMarkerID', 'PupilGlassesRight', 'Unnamed: 93'],\n",
      "      dtype='object')\n"
     ]
    }
   ],
   "source": [
    "columns = [ \"\"]"
   ]
  }
 ],
 "metadata": {
  "kernelspec": {
   "display_name": "Python 3",
   "language": "python",
   "name": "python3"
  },
  "language_info": {
   "codemirror_mode": {
    "name": "ipython",
    "version": 3
   },
   "file_extension": ".py",
   "mimetype": "text/x-python",
   "name": "python",
   "nbconvert_exporter": "python",
   "pygments_lexer": "ipython3",
   "version": "3.5.3"
  }
 },
 "nbformat": 4,
 "nbformat_minor": 2
}
